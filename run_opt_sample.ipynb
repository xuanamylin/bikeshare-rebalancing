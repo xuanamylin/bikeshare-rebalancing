{
 "cells": [
  {
   "cell_type": "code",
   "execution_count": 1,
   "metadata": {},
   "outputs": [
    {
     "name": "stderr",
     "output_type": "stream",
     "text": [
      "/Library/Frameworks/Python.framework/Versions/3.6/lib/python3.6/site-packages/sklearn/externals/joblib/__init__.py:15: FutureWarning: sklearn.externals.joblib is deprecated in 0.21 and will be removed in 0.23. Please import this functionality directly from joblib, which can be installed with: pip install joblib. If this warning is raised when loading pickled models, you may need to re-serialize those models with scikit-learn 0.21+.\n",
      "  warnings.warn(msg, category=FutureWarning)\n"
     ]
    }
   ],
   "source": [
    "import sys\n",
    "sys.path.append('/Users/Resource/Desktop/Optimization_Project/test')\n",
    "import numpy as np\n",
    "import pandas as pd\n",
    "import Divvy_SA as sa\n",
    "import Divvy_ACO as aco\n",
    "from sklearn.externals import joblib\n",
    "pd.set_option('display.max_rows', 100)\n",
    "pd.set_option('display.max_columns', None)\n",
    "import pickle\n",
    "from itertools import product\n",
    "import xgboost\n",
    "from grid_search import GridSearchOpt\n",
    "\n",
    "from optimization_hyper_tune import optimization_hypterparameter_tuning"
   ]
  },
  {
   "cell_type": "code",
   "execution_count": 2,
   "metadata": {},
   "outputs": [
    {
     "data": {
      "text/plain": [
       "'0.7.post4'"
      ]
     },
     "execution_count": 2,
     "metadata": {},
     "output_type": "execute_result"
    }
   ],
   "source": [
    "xgboost.__version__"
   ]
  },
  {
   "cell_type": "code",
   "execution_count": 3,
   "metadata": {},
   "outputs": [],
   "source": [
    "# ----------------- VARIABLE ----------------- #\n",
    "\n",
    "path = '/Users/Resource/Desktop/Optimization_Project/test/'\n",
    "output_path = '/Users/Resource/Desktop/Optimization_Project/test/'\n",
    "sensor_file = '2018Q12_top25station_sensor.csv'\n",
    "model_in_name = 'model_in.pkl'\n",
    "model_out_name = 'model_out.pkl'\n",
    "traffic_dataset_name = 'modeling_dataset.csv'\n",
    "travel_distance_name = 'station_distances.csv'\n",
    "station_info_name = \"station_info.csv\""
   ]
  },
  {
   "cell_type": "code",
   "execution_count": 4,
   "metadata": {},
   "outputs": [],
   "source": [
    "top_station_ids = [35, 192,  91,  77,  43, 133, 174,  81,  76,  90, 177, 287, 268,\n",
    "                   195,  85, 283, 100,  66, 110,  52, 181,  48,  59, 176,  49]\n",
    "\n",
    "sample_date = '2018-05-31'\n",
    "sample_bin = 8 # start time(14:00-15:59) every 2 hour\n",
    "features = ['month', 'dayofweek', 'time_bin',    # this has to be replaced later\n",
    "            'in_trips_prev1', 'out_trips_prev1', \n",
    "            'in_trips_ystd', 'out_trips_ystd']\n",
    "\n",
    "time_limit = 120\n",
    "truck_capacity = 15\n",
    "debug = False\n",
    "start_station = 0\n",
    "\n",
    "#sa_hyperparameters = {'temp_schedule': 100, \n",
    "#                  'K': 100, \n",
    "#                  'alpha': 0.96, \n",
    "#                  'iter_max': 1000, \n",
    "#                  'temp': 100, \n",
    "#                  'tolerance': 500\n",
    "#                  }\n",
    "\n",
    "\n",
    "sa_hyperparameters = {'temp_schedule': 80, \n",
    "                  'K': 50, \n",
    "                  'alpha': 0.8,\n",
    "                  'iter_max': 5000, \n",
    "                  'temp': 100, \n",
    "                  'tolerance': 1000\n",
    "                  }\n",
    "\n",
    "\n",
    "aco_hyperparameters = {'n_ants': 1,\n",
    "                      'n_best': 1,\n",
    "                      'n_iterations': 500,\n",
    "                      'decay': 0.5,\n",
    "                      'alpha': 0.2,\n",
    "                      'beta': 1}\n",
    "\n",
    "# ---------------- Data Processiong Functions ---------------- #"
   ]
  },
  {
   "cell_type": "code",
   "execution_count": 5,
   "metadata": {},
   "outputs": [],
   "source": [
    "def get_expected_cnt(net_flow, capacity, actual):\n",
    "    # net inflow\n",
    "    if net_flow > 0:\n",
    "        return int(max(capacity - net_flow, 0))\n",
    "    # net outflow\n",
    "    elif net_flow < 0:\n",
    "        return int(min(abs(net_flow), capacity))\n",
    "    else:\n",
    "        return int(actual)\n",
    "\n",
    "def get_expected_cnt_extra(net_flow, capacity):\n",
    "    # net inflow: (0, capacity - docks needed)\n",
    "    if net_flow > 0:\n",
    "        return (0, max(capacity - net_flow, 0))\n",
    "    # net outflow: (bikes needed, full)\n",
    "    elif net_flow < 0:\n",
    "        return (min(abs(net_flow), capacity), capacity)\n",
    "    # no adjustment needed\n",
    "    else:\n",
    "        return (0, capacity)"
   ]
  },
  {
   "cell_type": "code",
   "execution_count": 6,
   "metadata": {},
   "outputs": [],
   "source": [
    "# ------------------ PREDICTION ------------------ #\n",
    "\n",
    "# Load data & model\n",
    "sensor_df = pd.read_csv(path + sensor_file)\n",
    "model_inflow = joblib.load(path +  model_in_name)\n",
    "model_outflow = joblib.load(path +  model_out_name)\n",
    "traffic = pd.read_csv(path + traffic_dataset_name)\n",
    "distance = pd.read_csv(path + \"station_distances.csv\", names = [\"from\", \"to\", \"distance\"])\n",
    "station_info = pd.read_csv(path + station_info_name)"
   ]
  },
  {
   "cell_type": "code",
   "execution_count": 7,
   "metadata": {},
   "outputs": [],
   "source": [
    "# Number of docks & station capacity\n",
    "sensor_info = sensor_df[(sensor_df['date'] == sample_date) & (sensor_df['hour'] == sample_bin)\n",
    "                        & (pd.to_datetime(sensor_df['date_clean']).dt.minute == 0)][['id', 'available_bikes', 'docks_in_service']]\n",
    "sensor_info.columns = ['station_id', 'actual_cnt', 'capacity']"
   ]
  },
  {
   "cell_type": "code",
   "execution_count": 8,
   "metadata": {},
   "outputs": [],
   "source": [
    "# Get distance matrix (min)\n",
    "time_mtrx = distance[(distance['from'].isin(top_station_ids)) & (distance['to'].isin(top_station_ids))].copy()\n",
    "time_mtrx = pd.pivot_table(time_mtrx, values='distance', index='from', columns='to', aggfunc=np.sum)\n",
    "time_mtrx = time_mtrx / 600"
   ]
  },
  {
   "cell_type": "code",
   "execution_count": 9,
   "metadata": {},
   "outputs": [],
   "source": [
    "# Get expected demand\n",
    "case = traffic[(traffic['date'] == sample_date) & (traffic['time_bin'] == sample_bin)].copy()\n",
    "case['inflow_pred'] = model_inflow.predict(case[features]).round()\n",
    "case['outflow_pred'] = model_outflow.predict(case[features]).round()\n",
    "case['net_flow'] = case['inflow_pred'] - case['outflow_pred']\n",
    "case = pd.merge(case, sensor_info, on = 'station_id', how = 'outer')\n",
    "case['expected_cnt'] = case[['net_flow', 'capacity', 'actual_cnt']].apply(lambda x: get_expected_cnt(x[0], x[1], x[2]), axis = 1)\n",
    "case.sort_values('station_id', inplace = True)"
   ]
  },
  {
   "cell_type": "code",
   "execution_count": null,
   "metadata": {},
   "outputs": [],
   "source": []
  },
  {
   "cell_type": "code",
   "execution_count": 10,
   "metadata": {},
   "outputs": [],
   "source": [
    "# ------------------ RUN ACO ----------------- #\n",
    "\n",
    "# Helper functions\n",
    "def convert_ACO_time_mtrx(mtrx):\n",
    "    N = len(mtrx)\n",
    "    for i in range(N):\n",
    "        mtrx[i][i] = np.inf\n",
    "    return mtrx"
   ]
  },
  {
   "cell_type": "code",
   "execution_count": null,
   "metadata": {},
   "outputs": [],
   "source": []
  },
  {
   "cell_type": "code",
   "execution_count": 11,
   "metadata": {},
   "outputs": [],
   "source": [
    "# Get expected demand sample\n",
    "\n",
    "# sample date & sample bins\n",
    "def sample_20(sample_date, sample_bin):\n",
    "    sensor_info = sensor_df[(sensor_df['date'] == sample_date) & (sensor_df['hour'] == sample_bin)\n",
    "                            & (pd.to_datetime(sensor_df['date_clean']).dt.minute == 0)][['id', 'available_bikes', 'docks_in_service']]\n",
    "    sensor_info.columns = ['station_id', 'actual_cnt', 'capacity']\n",
    "    case = traffic[(traffic['date'] == sample_date) & (traffic['time_bin'] == sample_bin)].copy()\n",
    "    case['inflow_pred'] = model_inflow.predict(case[features]).round()\n",
    "    case['outflow_pred'] = model_outflow.predict(case[features]).round()\n",
    "    case['net_flow'] = case['inflow_pred'] - case['outflow_pred']\n",
    "    case = pd.merge(case, sensor_info, on = 'station_id', how = 'outer')\n",
    "    case['expected_cnt'] = case[['net_flow', 'capacity', 'actual_cnt']].apply(lambda x: get_expected_cnt(x[0], x[1], x[2]), axis = 1)\n",
    "    case.sort_values('station_id', inplace = True)\n",
    "    return list(case['actual_cnt']), list(case['expected_cnt']), list(case['capacity'])\n"
   ]
  },
  {
   "cell_type": "code",
   "execution_count": 12,
   "metadata": {},
   "outputs": [],
   "source": [
    "def iterate_sample_20(inpt):\n",
    "    actual_lst = []\n",
    "    expect_lst = []\n",
    "    capacity_lst =[]\n",
    "    for (i,j) in inpt:\n",
    "        actual, expect, capacity = sample_20(i,j)\n",
    "        actual_lst.append(actual)\n",
    "        expect_lst.append(expect)\n",
    "        capacity_lst.append(capacity)\n",
    "    return actual_lst, expect_lst, capacity_lst"
   ]
  },
  {
   "cell_type": "code",
   "execution_count": 13,
   "metadata": {},
   "outputs": [],
   "source": [
    "inpt1 = [('2018-05-31',6), ('2018-05-31',8), ('2018-05-31',10),('2018-05-21',8),('2018-05-31',12)]\n",
    "inpt4 = [('2018-05-28',6), ('2018-05-28',8), ('2018-05-17',8),('2018-05-27',14),('2018-05-24',6)]"
   ]
  },
  {
   "cell_type": "code",
   "execution_count": null,
   "metadata": {},
   "outputs": [],
   "source": [
    "inpt2 = [('2018-05-30',6), ('2018-05-30',8), ('2018-05-30',10),('2018-05-20',8),('2018-05-30',12)]\n",
    "inpt3 = [('2018-05-29',6), ('2018-05-29',8), ('2018-05-29',10),('2018-05-19',8),('2018-05-29',12)]"
   ]
  },
  {
   "cell_type": "code",
   "execution_count": 14,
   "metadata": {},
   "outputs": [],
   "source": [
    "inpt=[]\n",
    "inpt.extend(inpt1)\n",
    "inpt.extend(inpt4)"
   ]
  },
  {
   "cell_type": "code",
   "execution_count": 15,
   "metadata": {},
   "outputs": [],
   "source": [
    "actual_lst, expect_lst,capacity_lst = iterate_sample_20(inpt)"
   ]
  },
  {
   "cell_type": "code",
   "execution_count": null,
   "metadata": {},
   "outputs": [],
   "source": []
  },
  {
   "cell_type": "code",
   "execution_count": 16,
   "metadata": {},
   "outputs": [],
   "source": [
    "aco_param = {\"travel_time\": convert_ACO_time_mtrx(time_mtrx.values),\n",
    "                 \"capacity\" : truck_capacity, \n",
    "                 \"time_constraint\" : time_limit,\n",
    "                 \"start_station\": start_station,\n",
    "                 'n_ants':1,\n",
    "                 'n_best':1,\n",
    "                  'beta': 1,\n",
    "                  'decay':1,\n",
    "                  \"n_iterations\":100}"
   ]
  },
  {
   "cell_type": "code",
   "execution_count": 17,
   "metadata": {},
   "outputs": [],
   "source": [
    "aco_hyper = {\n",
    "          'alpha':[0.6,0.7,0.9],\n",
    "          'decay':[0.8,0.9,1],\n",
    "          \"n_iterations\":[100,200,500]\n",
    "         }"
   ]
  },
  {
   "cell_type": "code",
   "execution_count": 20,
   "metadata": {},
   "outputs": [],
   "source": [
    "sa_param = {\"time_mtrx\" : time_mtrx.values,\n",
    "             \"time_limit\" : time_limit,\n",
    "             \"station_capacity\" : capacity_lst[0],\n",
    "             \"truck_capacity\" : truck_capacity,\n",
    "             \"debug\" : debug,\n",
    "             \"do_nothing_punishment\" : 0,\n",
    "             }"
   ]
  },
  {
   "cell_type": "code",
   "execution_count": 21,
   "metadata": {},
   "outputs": [],
   "source": [
    "sa_hyper = {'temp_schedule': [70,80,90], \n",
    "              'K': [50,60], \n",
    "              'alpha': [0.8,0.9],\n",
    "              'iter_max': [100,500], \n",
    "              'temp': [90,100], \n",
    "              'tolerance': [1000,2000]\n",
    "              }"
   ]
  },
  {
   "cell_type": "code",
   "execution_count": 22,
   "metadata": {},
   "outputs": [],
   "source": [
    "#actual_lst = [list(case['actual_cnt'])]\n",
    "#expect_lst = [list(case['expected_cnt'])]\n",
    "from copy import deepcopy "
   ]
  },
  {
   "cell_type": "code",
   "execution_count": 23,
   "metadata": {},
   "outputs": [],
   "source": [
    "aco = optimization_hypterparameter_tuning(aco_param, aco_hyper, \"aco\", expect_lst, actual_lst)"
   ]
  },
  {
   "cell_type": "code",
   "execution_count": 26,
   "metadata": {},
   "outputs": [],
   "source": [
    "df_aco_report = aco.report"
   ]
  },
  {
   "cell_type": "code",
   "execution_count": 27,
   "metadata": {},
   "outputs": [
    {
     "name": "stdout",
     "output_type": "stream",
     "text": [
      "         alpha  decay  n_iterations    satisfy  satisfiable_demand  \\\n",
      "case                                                                 \n",
      "5     0.733333    0.9    266.666667   14.00000                14.0   \n",
      "8     0.733333    0.9    266.666667   74.00000                74.0   \n",
      "9     0.733333    0.9    266.666667   64.00000                64.0   \n",
      "1     0.733333    0.9    266.666667  209.62963               226.0   \n",
      "6     0.733333    0.9    266.666667   62.00000                72.0   \n",
      "\n",
      "      satisfy/satisfiable  \n",
      "case                       \n",
      "5                1.000000  \n",
      "8                1.000000  \n",
      "9                1.000000  \n",
      "1                0.927565  \n",
      "6                0.861111  \n"
     ]
    }
   ],
   "source": [
    "aco.return_best()"
   ]
  },
  {
   "cell_type": "code",
   "execution_count": 28,
   "metadata": {},
   "outputs": [
    {
     "data": {
      "text/html": [
       "<div>\n",
       "<style scoped>\n",
       "    .dataframe tbody tr th:only-of-type {\n",
       "        vertical-align: middle;\n",
       "    }\n",
       "\n",
       "    .dataframe tbody tr th {\n",
       "        vertical-align: top;\n",
       "    }\n",
       "\n",
       "    .dataframe thead th {\n",
       "        text-align: right;\n",
       "    }\n",
       "</style>\n",
       "<table border=\"1\" class=\"dataframe\">\n",
       "  <thead>\n",
       "    <tr style=\"text-align: right;\">\n",
       "      <th></th>\n",
       "      <th>alpha</th>\n",
       "      <th>decay</th>\n",
       "      <th>n_iterations</th>\n",
       "      <th>satisfy</th>\n",
       "      <th>case</th>\n",
       "      <th>satisfiable_demand</th>\n",
       "      <th>satisfy/satisfiable</th>\n",
       "    </tr>\n",
       "  </thead>\n",
       "  <tbody>\n",
       "    <tr>\n",
       "      <th>0</th>\n",
       "      <td>0.6</td>\n",
       "      <td>0.8</td>\n",
       "      <td>100</td>\n",
       "      <td>70</td>\n",
       "      <td>0</td>\n",
       "      <td>84</td>\n",
       "      <td>0.833333</td>\n",
       "    </tr>\n",
       "    <tr>\n",
       "      <th>1</th>\n",
       "      <td>0.6</td>\n",
       "      <td>0.8</td>\n",
       "      <td>200</td>\n",
       "      <td>70</td>\n",
       "      <td>0</td>\n",
       "      <td>84</td>\n",
       "      <td>0.833333</td>\n",
       "    </tr>\n",
       "    <tr>\n",
       "      <th>2</th>\n",
       "      <td>0.6</td>\n",
       "      <td>0.8</td>\n",
       "      <td>500</td>\n",
       "      <td>70</td>\n",
       "      <td>0</td>\n",
       "      <td>84</td>\n",
       "      <td>0.833333</td>\n",
       "    </tr>\n",
       "    <tr>\n",
       "      <th>3</th>\n",
       "      <td>0.6</td>\n",
       "      <td>0.9</td>\n",
       "      <td>100</td>\n",
       "      <td>70</td>\n",
       "      <td>0</td>\n",
       "      <td>84</td>\n",
       "      <td>0.833333</td>\n",
       "    </tr>\n",
       "    <tr>\n",
       "      <th>4</th>\n",
       "      <td>0.6</td>\n",
       "      <td>0.9</td>\n",
       "      <td>200</td>\n",
       "      <td>70</td>\n",
       "      <td>0</td>\n",
       "      <td>84</td>\n",
       "      <td>0.833333</td>\n",
       "    </tr>\n",
       "  </tbody>\n",
       "</table>\n",
       "</div>"
      ],
      "text/plain": [
       "   alpha  decay  n_iterations  satisfy  case  satisfiable_demand  \\\n",
       "0    0.6    0.8           100       70     0                  84   \n",
       "1    0.6    0.8           200       70     0                  84   \n",
       "2    0.6    0.8           500       70     0                  84   \n",
       "3    0.6    0.9           100       70     0                  84   \n",
       "4    0.6    0.9           200       70     0                  84   \n",
       "\n",
       "   satisfy/satisfiable  \n",
       "0             0.833333  \n",
       "1             0.833333  \n",
       "2             0.833333  \n",
       "3             0.833333  \n",
       "4             0.833333  "
      ]
     },
     "execution_count": 28,
     "metadata": {},
     "output_type": "execute_result"
    }
   ],
   "source": [
    "aco.report.head()"
   ]
  },
  {
   "cell_type": "code",
   "execution_count": null,
   "metadata": {},
   "outputs": [],
   "source": [
    "aco_hyper = {'n_ants':[1,2],\n",
    "             'n_best':[1,2],\n",
    "          'alpha':[0.6,0.7,0.9],\n",
    "          'decay':[0.8,0.9,1],\n",
    "          \"n_iterations\":[100,200,500]\n",
    "         }"
   ]
  },
  {
   "cell_type": "code",
   "execution_count": 31,
   "metadata": {},
   "outputs": [
    {
     "name": "stdout",
     "output_type": "stream",
     "text": [
      "AxesSubplot(0.125,0.125;0.775x0.755)\n"
     ]
    },
    {
     "data": {
      "image/png": "[encoded data removed]",
      "text/plain": [
       "<Figure size 432x288 with 1 Axes>"
      ]
     },
     "metadata": {
      "needs_background": "light"
     },
     "output_type": "display_data"
    }
   ],
   "source": [
    "aco.compare_own_trend(\"n_iterations\")"
   ]
  },
  {
   "cell_type": "code",
   "execution_count": 30,
   "metadata": {},
   "outputs": [
    {
     "name": "stdout",
     "output_type": "stream",
     "text": [
      "AxesSubplot(0.125,0.125;0.775x0.755)\n"
     ]
    },
    {
     "data": {
      "image/png": "[encoded data removed]",
      "text/plain": [
       "<Figure size 432x288 with 1 Axes>"
      ]
     },
     "metadata": {
      "needs_background": "light"
     },
     "output_type": "display_data"
    }
   ],
   "source": [
    "aco.compare_own_trend(\"n_iterations\",'bar')"
   ]
  },
  {
   "cell_type": "code",
   "execution_count": 218,
   "metadata": {},
   "outputs": [],
   "source": [
    "#s_a = optimization_hypterparameter_tuning(sa_param, sa_hyper, \"sa\", [expect_lst[i]], [actual_lst[i]], [capacity_lst[i]])"
   ]
  },
  {
   "cell_type": "code",
   "execution_count": 222,
   "metadata": {},
   "outputs": [],
   "source": [
    "s_a = optimization_hypterparameter_tuning(sa_param, sa_hyper, \"sa\", expect_lst, actual_lst, capacity_lst)"
   ]
  },
  {
   "cell_type": "code",
   "execution_count": 226,
   "metadata": {},
   "outputs": [
    {
     "name": "stdout",
     "output_type": "stream",
     "text": [
      "         temp_schedule     K  alpha  iter_max  temp  tolerance  case\n",
      "satisfy                                                             \n",
      "417                580   380    5.9       700   640      12000    35\n",
      "413                 90    60    0.8       100   100       2000     5\n",
      "412                390   270    4.2       500   480       5000    33\n",
      "410                 90    60    0.8       100    90       2000     9\n",
      "407               1780  1260   19.4      3900  2180      33000   115\n"
     ]
    }
   ],
   "source": [
    "s_a.return_best()"
   ]
  },
  {
   "cell_type": "code",
   "execution_count": 227,
   "metadata": {},
   "outputs": [
    {
     "data": {
      "text/plain": [
       "Index(['temp_schedule', 'K', 'alpha', 'iter_max', 'temp', 'tolerance',\n",
       "       'satisfy', 'case'],\n",
       "      dtype='object')"
      ]
     },
     "execution_count": 227,
     "metadata": {},
     "output_type": "execute_result"
    }
   ],
   "source": [
    "s_a.report.columns"
   ]
  },
  {
   "cell_type": "code",
   "execution_count": 229,
   "metadata": {},
   "outputs": [
    {
     "data": {
      "text/html": [
       "<div>\n",
       "<style scoped>\n",
       "    .dataframe tbody tr th:only-of-type {\n",
       "        vertical-align: middle;\n",
       "    }\n",
       "\n",
       "    .dataframe tbody tr th {\n",
       "        vertical-align: top;\n",
       "    }\n",
       "\n",
       "    .dataframe thead th {\n",
       "        text-align: right;\n",
       "    }\n",
       "</style>\n",
       "<table border=\"1\" class=\"dataframe\">\n",
       "  <thead>\n",
       "    <tr style=\"text-align: right;\">\n",
       "      <th></th>\n",
       "      <th></th>\n",
       "      <th></th>\n",
       "      <th></th>\n",
       "      <th></th>\n",
       "      <th></th>\n",
       "      <th>satisfy</th>\n",
       "      <th>case</th>\n",
       "    </tr>\n",
       "    <tr>\n",
       "      <th>temp_schedule</th>\n",
       "      <th>K</th>\n",
       "      <th>alpha</th>\n",
       "      <th>iter_max</th>\n",
       "      <th>temp</th>\n",
       "      <th>tolerance</th>\n",
       "      <th></th>\n",
       "      <th></th>\n",
       "    </tr>\n",
       "  </thead>\n",
       "  <tbody>\n",
       "    <tr>\n",
       "      <th rowspan=\"4\" valign=\"top\">70</th>\n",
       "      <th rowspan=\"2\" valign=\"top\">50</th>\n",
       "      <th>0.8</th>\n",
       "      <th>100</th>\n",
       "      <th>100</th>\n",
       "      <th>2000</th>\n",
       "      <td>2962</td>\n",
       "      <td>45</td>\n",
       "    </tr>\n",
       "    <tr>\n",
       "      <th>0.9</th>\n",
       "      <th>100</th>\n",
       "      <th>90</th>\n",
       "      <th>2000</th>\n",
       "      <td>2943</td>\n",
       "      <td>45</td>\n",
       "    </tr>\n",
       "    <tr>\n",
       "      <th rowspan=\"2\" valign=\"top\">60</th>\n",
       "      <th>0.9</th>\n",
       "      <th>100</th>\n",
       "      <th>100</th>\n",
       "      <th>1000</th>\n",
       "      <td>2923</td>\n",
       "      <td>45</td>\n",
       "    </tr>\n",
       "    <tr>\n",
       "      <th>0.8</th>\n",
       "      <th>100</th>\n",
       "      <th>90</th>\n",
       "      <th>1000</th>\n",
       "      <td>2910</td>\n",
       "      <td>45</td>\n",
       "    </tr>\n",
       "    <tr>\n",
       "      <th>80</th>\n",
       "      <th>60</th>\n",
       "      <th>0.9</th>\n",
       "      <th>100</th>\n",
       "      <th>90</th>\n",
       "      <th>2000</th>\n",
       "      <td>2910</td>\n",
       "      <td>45</td>\n",
       "    </tr>\n",
       "  </tbody>\n",
       "</table>\n",
       "</div>"
      ],
      "text/plain": [
       "                                                satisfy  case\n",
       "temp_schedule K  alpha iter_max temp tolerance               \n",
       "70            50 0.8   100      100  2000          2962    45\n",
       "                 0.9   100      90   2000          2943    45\n",
       "              60 0.9   100      100  1000          2923    45\n",
       "                 0.8   100      90   1000          2910    45\n",
       "80            60 0.9   100      90   2000          2910    45"
      ]
     },
     "execution_count": 229,
     "metadata": {},
     "output_type": "execute_result"
    }
   ],
   "source": [
    "s_a.report.groupby(by=['temp_schedule', 'K', 'alpha', 'iter_max', 'temp', 'tolerance']).sum().sort_values(by='satisfy', ascending = False).head(5)"
   ]
  },
  {
   "cell_type": "code",
   "execution_count": 149,
   "metadata": {},
   "outputs": [],
   "source": [
    "# Sample larger than population or is negative\n",
    "# Expected # bikes at stations exceeds capacity.\n",
    "# Actual # bikes at stations exceeds capacity.\n"
   ]
  },
  {
   "cell_type": "code",
   "execution_count": null,
   "metadata": {},
   "outputs": [],
   "source": []
  }
 ],
 "metadata": {
  "kernelspec": {
   "display_name": "Python 3",
   "language": "python",
   "name": "python3"
  },
  "language_info": {
   "codemirror_mode": {
    "name": "ipython",
    "version": 3
   },
   "file_extension": ".py",
   "mimetype": "text/x-python",
   "name": "python",
   "nbconvert_exporter": "python",
   "pygments_lexer": "ipython3",
   "version": "3.6.2"
  }
 },
 "nbformat": 4,
 "nbformat_minor": 2
}
