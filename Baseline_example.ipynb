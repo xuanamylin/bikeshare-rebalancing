{
 "cells": [
  {
   "cell_type": "code",
   "execution_count": 1,
   "id": "blond-acrylic",
   "metadata": {},
   "outputs": [],
   "source": [
    "from Divvy_baseline import Baseline\n",
    "import numpy as np"
   ]
  },
  {
   "cell_type": "code",
   "execution_count": 2,
   "id": "angry-democracy",
   "metadata": {},
   "outputs": [],
   "source": [
    "actual = np.array([5,29,15,11])\n",
    "expect = np.array([9,20,18,9])"
   ]
  },
  {
   "cell_type": "code",
   "execution_count": 3,
   "id": "raised-restriction",
   "metadata": {},
   "outputs": [],
   "source": [
    "time_mtrx = np.array([np.inf, 3, 12, 4,\n",
    "                       3, np.inf, 8, 9,\n",
    "                       12, 8, np.inf, 10,\n",
    "                       4, 9, 10, np.inf]).reshape(4,4)"
   ]
  },
  {
   "cell_type": "code",
   "execution_count": 4,
   "id": "radical-sellers",
   "metadata": {},
   "outputs": [],
   "source": [
    "bl = Baseline(time_mtrx, demand = actual - expect, capacity =8, time_constraint = 10, num_trucks =2)"
   ]
  },
  {
   "cell_type": "code",
   "execution_count": 5,
   "id": "guilty-support",
   "metadata": {},
   "outputs": [
    {
     "name": "stdout",
     "output_type": "stream",
     "text": [
      "current time: 0\n",
      "truck 0 pick up 8 bikes at station 1 ;finish time:  3.0\n",
      "current time: 0\n",
      "truck 1 pick up 2 bikes at station 3 ;finish time:  9.0\n",
      "current time: 3.0\n",
      "truck 0 drop_off 4 bikes at station 0 ;finish time:  7.0\n",
      "current time: 7.0\n",
      "[0, 1, -3, 0]\n"
     ]
    }
   ],
   "source": [
    "bl.run()"
   ]
  },
  {
   "cell_type": "code",
   "execution_count": 6,
   "id": "revolutionary-october",
   "metadata": {},
   "outputs": [
    {
     "data": {
      "text/plain": [
       "[[1, 0], [3]]"
      ]
     },
     "execution_count": 6,
     "metadata": {},
     "output_type": "execute_result"
    }
   ],
   "source": [
    "bl.paths"
   ]
  },
  {
   "cell_type": "code",
   "execution_count": 7,
   "id": "relevant-madison",
   "metadata": {},
   "outputs": [
    {
     "data": {
      "text/plain": [
       "array([-4,  9, -3,  2])"
      ]
     },
     "execution_count": 7,
     "metadata": {},
     "output_type": "execute_result"
    }
   ],
   "source": [
    "actual - expect"
   ]
  },
  {
   "cell_type": "code",
   "execution_count": 8,
   "id": "rotary-sequence",
   "metadata": {},
   "outputs": [
    {
     "data": {
      "text/plain": [
       "[0, 1, -3, 0]"
      ]
     },
     "execution_count": 8,
     "metadata": {},
     "output_type": "execute_result"
    }
   ],
   "source": [
    "bl.demand_lst"
   ]
  },
  {
   "cell_type": "code",
   "execution_count": 9,
   "id": "editorial-annual",
   "metadata": {},
   "outputs": [
    {
     "name": "stdout",
     "output_type": "stream",
     "text": [
      "demand list:  [0, 1, -3, 0]\n",
      "paths:  [[1, 0], [3]]\n",
      "truck inv [[8, 4], [2]]\n",
      "satisfied customer 14\n",
      "end time for trucks [9.0]\n"
     ]
    }
   ],
   "source": [
    "bl.result()"
   ]
  },
  {
   "cell_type": "code",
   "execution_count": null,
   "id": "moderate-receptor",
   "metadata": {},
   "outputs": [],
   "source": []
  },
  {
   "cell_type": "code",
   "execution_count": null,
   "id": "modular-telling",
   "metadata": {},
   "outputs": [],
   "source": []
  }
 ],
 "metadata": {
  "kernelspec": {
   "display_name": "Python 3",
   "language": "python",
   "name": "python3"
  },
  "language_info": {
   "codemirror_mode": {
    "name": "ipython",
    "version": 3
   },
   "file_extension": ".py",
   "mimetype": "text/x-python",
   "name": "python",
   "nbconvert_exporter": "python",
   "pygments_lexer": "ipython3",
   "version": "3.8.5"
  }
 },
 "nbformat": 4,
 "nbformat_minor": 5
}
